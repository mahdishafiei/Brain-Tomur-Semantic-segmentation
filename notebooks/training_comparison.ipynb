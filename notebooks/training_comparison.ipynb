{
  "cells": [
    {
      "cell_type": "markdown",
      "metadata": {},
      "source": [
        "# Brain Tumor Segmentation: Focal Loss vs Binary Cross-Entropy\n",
        "\n",
        "This notebook implements the complete training pipeline comparing Focal Loss and Binary Cross-Entropy Loss for brain tumor segmentation using U-Net architecture.\n",
        "\n",
        "## Paper Reference\n",
        "**A Quantitative Comparison between Focal Loss and Binary Cross-Entropy Loss in Brain Tumor Auto-Segmentation Using U-Net**  \n",
        "Published in *Journal of Biostatistics and Epidemiology*, 2025  \n",
        "DOI: 10.18502/jbe.v11i1.19315\n"
      ]
    },
    {
      "cell_type": "code",
      "execution_count": null,
      "metadata": {},
      "outputs": [],
      "source": [
        "import os\n",
        "import sys\n",
        "import numpy as np\n",
        "import pandas as pd\n",
        "import matplotlib.pyplot as plt\n",
        "import seaborn as sns\n",
        "from pathlib import Path\n",
        "\n",
        "# Add src to path\n",
        "sys.path.append('../src')\n",
        "\n",
        "# TensorFlow and Keras\n",
        "import tensorflow as tf\n",
        "from tensorflow import keras\n",
        "from tensorflow.keras import layers, callbacks\n",
        "\n",
        "# Custom modules\n",
        "from models.unet import create_unet\n",
        "from losses.focal_loss import FocalLoss\n",
        "from utils.evaluation import calculate_metrics_batch, SegmentationMetrics\n",
        "from preprocessing.preprocessing import preprocess_pipeline\n",
        "\n",
        "# Set random seeds for reproducibility\n",
        "np.random.seed(42)\n",
        "tf.random.set_seed(42)\n",
        "\n",
        "# Configure matplotlib\n",
        "plt.style.use('seaborn-v0_8')\n",
        "sns.set_palette(\"husl\")\n",
        "\n",
        "print(f\"TensorFlow version: {tf.__version__}\")\n",
        "print(f\"GPU available: {tf.config.list_physical_devices('GPU')}\")\n"
      ]
    }
  ],
  "metadata": {
    "language_info": {
      "name": "python"
    }
  },
  "nbformat": 4,
  "nbformat_minor": 2
}
